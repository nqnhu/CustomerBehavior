{
 "cells": [
  {
   "cell_type": "markdown",
   "metadata": {},
   "source": [
    "**Import Library**"
   ]
  },
  {
   "cell_type": "code",
   "execution_count": 1,
   "metadata": {},
   "outputs": [],
   "source": [
    "from pyspark.sql import SparkSession, SQLContext\n",
    "from pyspark.sql.functions import col, isnan, when, count, lit, regexp_replace, desc\n",
    "import pyspark.sql.functions as sf\n",
    "from pyspark.sql.functions import rank, dense_rank, row_number, percentile_approx\n",
    "from pyspark.sql.window import Window\n",
    "from pyspark.sql.types import *\n",
    "import os\n",
    "import pandas as pd\n",
    "import matplotlib.pyplot as plt\n"
   ]
  },
  {
   "cell_type": "code",
   "execution_count": 2,
   "metadata": {},
   "outputs": [],
   "source": [
    "spark = SparkSession.builder.config(\"spark.driver.memory\", \"7g\").config('spark.jars.packages','mysql:mysql-connector-java:8.0.17').getOrCreate()"
   ]
  },
  {
   "cell_type": "code",
   "execution_count": 4,
   "metadata": {},
   "outputs": [],
   "source": [
    "# Read ETL_Data from MyQSL Server\n",
    "# url = 'jdbc:mysql://' + 'localhost' + ':' + '3306' + '/' + 'customer_360_platform'\n",
    "# driver = \"com.mysql.cj.jdbc.Driver\"\n",
    "# user = 'root'\n",
    "# password = ''\n",
    "# sql = '(select * from data_behavior_daily_) A'\n",
    "# df = spark.read.format('jdbc').options(url = url, driver = driver, dbtable = sql, user = user, password = password).load()"
   ]
  },
  {
   "cell_type": "code",
   "execution_count": 3,
   "metadata": {},
   "outputs": [],
   "source": [
    "df = spark.read.csv('C:\\\\Users\\\\NKNhu\\\\Project\\\\Customer_Behavior\\\\DF_ETL_CLEAN_\\\\*.csv', header=True)"
   ]
  },
  {
   "cell_type": "code",
   "execution_count": 6,
   "metadata": {},
   "outputs": [
    {
     "name": "stdout",
     "output_type": "stream",
     "text": [
      "+---------+----------+--------------+--------------+--------------+--------------+-----------+\n",
      "| Contract|      Date|Relax_Duration|Movie_Duration|Child_Duration|Sport_Duration|TV_Duration|\n",
      "+---------+----------+--------------+--------------+--------------+--------------+-----------+\n",
      "|AGAAA0335|2022-04-08|          NULL|          NULL|          NULL|          NULL|       9349|\n",
      "|AGAAA0335|2022-04-13|          NULL|          NULL|          NULL|          NULL|      11719|\n",
      "|AGAAA0335|2022-04-16|           143|          NULL|          NULL|          NULL|      10572|\n",
      "|AGAAA0338|2022-04-15|          NULL|          NULL|          NULL|          NULL|       9357|\n",
      "|AGAAA0338|2022-04-18|          NULL|          NULL|          NULL|          NULL|       8442|\n",
      "+---------+----------+--------------+--------------+--------------+--------------+-----------+\n",
      "only showing top 5 rows\n",
      "\n"
     ]
    }
   ],
   "source": [
    "df.show(5)"
   ]
  },
  {
   "cell_type": "code",
   "execution_count": 7,
   "metadata": {},
   "outputs": [
    {
     "name": "stdout",
     "output_type": "stream",
     "text": [
      "root\n",
      " |-- Contract: string (nullable = true)\n",
      " |-- Date: string (nullable = true)\n",
      " |-- Relax_Duration: string (nullable = true)\n",
      " |-- Movie_Duration: string (nullable = true)\n",
      " |-- Child_Duration: string (nullable = true)\n",
      " |-- Sport_Duration: string (nullable = true)\n",
      " |-- TV_Duration: string (nullable = true)\n",
      "\n"
     ]
    }
   ],
   "source": [
    "df.printSchema()"
   ]
  },
  {
   "cell_type": "code",
   "execution_count": 4,
   "metadata": {},
   "outputs": [],
   "source": [
    "df = df.withColumn(\"Relax_Duration\", col(\"Relax_Duration\").cast(LongType())) \\\n",
    "    .withColumn(\"Movie_Duration\", col(\"Movie_Duration\").cast(LongType())) \\\n",
    "    .withColumn(\"Child_Duration\",col(\"Child_Duration\").cast(LongType()))\\\n",
    "    .withColumn(\"Sport_Duration\",col(\"Sport_Duration\").cast(LongType()))\\\n",
    "    .withColumn(\"TV_Duration\",col(\"TV_Duration\").cast(LongType()))"
   ]
  },
  {
   "cell_type": "code",
   "execution_count": 9,
   "metadata": {},
   "outputs": [
    {
     "name": "stdout",
     "output_type": "stream",
     "text": [
      "root\n",
      " |-- Contract: string (nullable = true)\n",
      " |-- Date: string (nullable = true)\n",
      " |-- Relax_Duration: long (nullable = true)\n",
      " |-- Movie_Duration: long (nullable = true)\n",
      " |-- Child_Duration: long (nullable = true)\n",
      " |-- Sport_Duration: long (nullable = true)\n",
      " |-- TV_Duration: long (nullable = true)\n",
      "\n"
     ]
    }
   ],
   "source": [
    "df.printSchema()"
   ]
  },
  {
   "cell_type": "markdown",
   "metadata": {},
   "source": [
    "# **Statistics Monthly**"
   ]
  },
  {
   "cell_type": "markdown",
   "metadata": {},
   "source": [
    "**Most_Watch & Taste**"
   ]
  },
  {
   "cell_type": "code",
   "execution_count": 5,
   "metadata": {},
   "outputs": [],
   "source": [
    "monthly_df = df.drop('Date')"
   ]
  },
  {
   "cell_type": "code",
   "execution_count": 5,
   "metadata": {},
   "outputs": [],
   "source": [
    "def unpivot_data(df):\n",
    "    a = df.select('Contract', 'TV_Duration').withColumn('Category', sf.lit('TV_Duration')).withColumnRenamed('TV_Duration', 'TotalDuration')\n",
    "    b = df.select('Contract', 'Relax_Duration').withColumn('Category', sf.lit('Relax_Duration')).withColumnRenamed('Relax_Duration', 'TotalDuration')\n",
    "    c = df.select('Contract', 'Movie_Duration').withColumn('Category', sf.lit('Movie_Duration')).withColumnRenamed('Movie_Duration', 'TotalDuration')\n",
    "    d = df.select('Contract', 'Child_Duration').withColumn('Category', sf.lit('Child_Duration')).withColumnRenamed('Child_Duration', 'TotalDuration')\n",
    "    e = df.select('Contract', 'Sport_Duration').withColumn('Category', sf.lit('Sport_Duration')).withColumnRenamed('Sport_Duration', 'TotalDuration')\n",
    "    unpivot_data = a.union(b).union(c).union(d).union(e)\n",
    "    unpivot_data = unpivot_data.groupBy('Contract', 'Category').sum()\n",
    "    unpivot_data = unpivot_data.withColumnRenamed('sum(TotalDuration)', 'TotalDuration')\n",
    "    return unpivot_data"
   ]
  },
  {
   "cell_type": "code",
   "execution_count": 7,
   "metadata": {},
   "outputs": [],
   "source": [
    "def calculate_contract_taste(df):\n",
    "    data_pivot = df.groupBy('Contract').pivot('Category').sum('TotalDuration')\n",
    "    contract_taste = data_pivot.withColumn('Relax_Duration', when(col('Relax_Duration').isNotNull(),'Relax').otherwise(col('Relax_Duration')))\n",
    "    contract_taste = contract_taste.withColumn('Movie_Duration', when(col('Movie_Duration').isNotNull(),'Movie').otherwise(col('Movie_Duration')))\n",
    "    contract_taste = contract_taste.withColumn('Child_Duration', when(col('Child_Duration').isNotNull(),'Child').otherwise(col('Child_Duration')))\n",
    "    contract_taste = contract_taste.withColumn('Sport_Duration', when(col('Sport_Duration').isNotNull(),'Sport').otherwise(col('Sport_Duration')))\n",
    "    contract_taste = contract_taste.withColumn('TV_Duration', when(col('TV_Duration').isNotNull(),'TV').otherwise(col('TV_Duration')))\n",
    "    contract_taste = contract_taste.withColumn('Taste', sf.concat_ws('-', *[c for c in contract_taste.columns if c!='Contract']))\n",
    "    contract_taste = contract_taste.select('Contract', 'Taste')\n",
    "    return contract_taste"
   ]
  },
  {
   "cell_type": "code",
   "execution_count": 8,
   "metadata": {},
   "outputs": [],
   "source": [
    "def calculate_most_watch(df):\n",
    "    windowSpec  = Window.partitionBy(\"Contract\").orderBy(desc(\"TotalDuration\"))\n",
    "    most_watch = df.withColumn(\"rank\", rank().over(windowSpec))\n",
    "    most_watch = most_watch.filter(col('rank') == 1)\n",
    "    most_watch = most_watch.withColumnRenamed('Category', 'Most_Watch')\n",
    "    most_watch = most_watch.withColumn('Most_Watch', regexp_replace('Most_Watch', '_Duration', ''))\n",
    "    most_watch = most_watch.select('Contract', 'Most_watch')\n",
    "    return most_watch"
   ]
  },
  {
   "cell_type": "code",
   "execution_count": 9,
   "metadata": {},
   "outputs": [],
   "source": [
    "def import_data_to_mysql(data, table_name):\n",
    "    url = 'jdbc:mysql://' + 'localhost' + ':' + '3306' + '/' + 'customer_360_platform'\n",
    "    driver = \"com.mysql.cj.jdbc.Driver\"\n",
    "    user = 'root'\n",
    "    password = ''\n",
    "    data.write.format('jdbc').option('url', url).option('driver', driver).option('dbtable', table_name).option('user', user).option('password', password).mode('append').save()\n",
    "    return print('Data imported successfully.')"
   ]
  },
  {
   "cell_type": "code",
   "execution_count": 10,
   "metadata": {},
   "outputs": [],
   "source": [
    "def statistics_monthly(df):\n",
    "    # Group by lại Contract sau khi bỏ cột Date\n",
    "    data_unpivot = unpivot_data(df)\n",
    "    contract_taste = calculate_contract_taste(data_unpivot)\n",
    "    most_watch = calculate_most_watch(data_unpivot)\n",
    "\n",
    "    # Find Most_watch and Taste for each Contract\n",
    "    result = data_unpivot.groupBy('Contract').pivot('Category').sum('TotalDuration')\n",
    "    result = result.join(contract_taste, 'Contract', 'inner')\n",
    "    result = result.join(most_watch, 'Contract', 'inner')\n",
    "\n",
    "    result = result.withColumn('Month', sf.lit('2022-04'))\n",
    "    result = result.select('Month', 'Contract', 'Child_Duration', 'Movie_Duration', 'Relax_Duration', 'Sport_Duration', 'TV_Duration', 'Taste', 'Most_watch')\n",
    "\n",
    "    print('-----------Saving Data Statistic Monthly ---------')\n",
    "    import_data_to_mysql(data = result, table_name = 'data_statistic_monthly')\n",
    "    result.repartition(1).write.csv('C:\\\\Users\\\\NKNhu\\\\Project\\\\Customer_Behavior\\\\DF_Statistic_Monthly', header=True)\n",
    "    print('Data Saved Successfully.')\n",
    "    return result"
   ]
  },
  {
   "cell_type": "code",
   "execution_count": 11,
   "metadata": {},
   "outputs": [
    {
     "name": "stdout",
     "output_type": "stream",
     "text": [
      "-----------Saving Data Statistic Monthly ---------\n",
      "Data imported successfully.\n",
      "Data Saved Successfully.\n"
     ]
    }
   ],
   "source": [
    "statistics_data = statistics_monthly(monthly_df)"
   ]
  },
  {
   "cell_type": "code",
   "execution_count": 11,
   "metadata": {},
   "outputs": [
    {
     "name": "stdout",
     "output_type": "stream",
     "text": [
      "+-------+--------------+--------------+--------------+--------------+--------------+-----------+--------+----------+\n",
      "|  Month|      Contract|Child_Duration|Movie_Duration|Relax_Duration|Sport_Duration|TV_Duration|   Taste|Most_watch|\n",
      "+-------+--------------+--------------+--------------+--------------+--------------+-----------+--------+----------+\n",
      "|2022-04|113.182.209.48|          NULL|          NULL|            89|          NULL|         63|Relax-TV|     Relax|\n",
      "|2022-04|14.182.110.125|          NULL|          NULL|            92|          NULL|        404|Relax-TV|        TV|\n",
      "|2022-04|14.189.124.168|          NULL|          NULL|          NULL|          NULL|        147|      TV|        TV|\n",
      "|2022-04|     AGAAA0338|          NULL|          NULL|          NULL|          NULL|     278633|      TV|        TV|\n",
      "|2022-04|     AGAAA0342|          NULL|          NULL|           204|          NULL|     117788|Relax-TV|        TV|\n",
      "+-------+--------------+--------------+--------------+--------------+--------------+-----------+--------+----------+\n",
      "only showing top 5 rows\n",
      "\n"
     ]
    }
   ],
   "source": [
    "statistics_data.show(5)"
   ]
  },
  {
   "cell_type": "markdown",
   "metadata": {},
   "source": [
    "**Top 5 Category groups with the highest customer usage**"
   ]
  },
  {
   "cell_type": "code",
   "execution_count": 20,
   "metadata": {},
   "outputs": [
    {
     "name": "stdout",
     "output_type": "stream",
     "text": [
      "+--------------+-------+\n",
      "|         Taste|  count|\n",
      "+--------------+-------+\n",
      "|            TV|1323145|\n",
      "|      Movie-TV| 246096|\n",
      "|      Child-TV| 124150|\n",
      "|Child-Movie-TV|  76568|\n",
      "|      Relax-TV|  37503|\n",
      "+--------------+-------+\n",
      "only showing top 5 rows\n",
      "\n"
     ]
    }
   ],
   "source": [
    "statistics_data.groupBy('Taste').count().orderBy(desc('count')).show(5)"
   ]
  },
  {
   "cell_type": "markdown",
   "metadata": {},
   "source": [
    "> Customers who only watch TV in the highest number, followed by other groups: Movie-TV, Child-TV, Child-Movie-TV, Relax-TV"
   ]
  },
  {
   "cell_type": "markdown",
   "metadata": {},
   "source": [
    "**Statistics on which Category has the most views by customers**"
   ]
  },
  {
   "cell_type": "code",
   "execution_count": 16,
   "metadata": {},
   "outputs": [
    {
     "name": "stdout",
     "output_type": "stream",
     "text": [
      "+----------+-------+\n",
      "|Most_watch|  count|\n",
      "+----------+-------+\n",
      "|        TV|1864915|\n",
      "|     Movie|  43282|\n",
      "|     Child|  11089|\n",
      "|     Relax|    929|\n",
      "|     Sport|    136|\n",
      "+----------+-------+\n",
      "\n"
     ]
    }
   ],
   "source": [
    "statistics_data.groupBy('Most_watch').count().orderBy(desc('count')).show()"
   ]
  },
  {
   "cell_type": "markdown",
   "metadata": {},
   "source": [
    "**Use IQR to visualize data**"
   ]
  },
  {
   "cell_type": "code",
   "execution_count": null,
   "metadata": {},
   "outputs": [],
   "source": [
    "# statistics_data = spark.read.csv('C:\\\\Users\\\\NKNhu\\\\Project\\\\Customer_Behavior\\\\DF_Statistic_Monthly\\\\*.csv', header=True)\n",
    "# statistics_data = statistics_data.withColumn(\"Relax_Duration\", col(\"Relax_Duration\").cast(LongType())) \\\n",
    "#                                  .withColumn(\"Movie_Duration\", col(\"Movie_Duration\").cast(LongType())) \\\n",
    "#                                  .withColumn(\"Child_Duration\",col(\"Child_Duration\").cast(LongType()))\\\n",
    "#                                  .withColumn(\"Sport_Duration\",col(\"Sport_Duration\").cast(LongType()))\\\n",
    "#                                  .withColumn(\"TV_Duration\",col(\"TV_Duration\").cast(LongType()))"
   ]
  },
  {
   "cell_type": "code",
   "execution_count": 32,
   "metadata": {},
   "outputs": [],
   "source": [
    "def calculate_iqr_point(df, column_name):\n",
    "    # Calculate bounds\n",
    "    print('-'*15, column_name)\n",
    "    quantiles = df.approxQuantile(column_name, [0.25, 0.5, 0.75], 0.01)\n",
    "    Q1, Q2, Q3 = quantiles[0], quantiles[1], quantiles[2]\n",
    "    # IQR = Q3 - Q1\n",
    "    # Q0 = Q1 - 1.5 * IQR\n",
    "    # Q4 = Q3 + 1.5 * IQR\n",
    "    print('q1 - 25% :', Q1)\n",
    "    print('q2 - 50% :', Q2)\n",
    "    print('q3 - 75% :', Q3)\n",
    "    return df"
   ]
  },
  {
   "cell_type": "code",
   "execution_count": 27,
   "metadata": {},
   "outputs": [
    {
     "data": {
      "image/png": "[encoded data removed]",
      "text/plain": [
       "<Figure size 1500x500 with 1 Axes>"
      ]
     },
     "metadata": {},
     "output_type": "display_data"
    }
   ],
   "source": [
    "import matplotlib.pyplot as plot\n",
    "\n",
    "# Print the IQR bounds (25%, 50%, 75%) of each category\n",
    "iqr_df = statistics_data\n",
    "no_string_columns = [types[0] for types in iqr_df.dtypes if types[1] != 'string']\n",
    "for column in no_string_columns:\n",
    "    calculate_iqr_point(iqr_df, column)\n",
    "\n",
    "# Plot IQR of each category\n",
    "df = statistics_data.toPandas()\n",
    "plot.figure(figsize=(15, 5))\n",
    "b_plot = df.boxplot(column = ['Child_Duration', 'Movie_Duration', 'Relax_Duration', 'Sport_Duration', 'TV_Duration'])\n",
    "plot.xlabel('Category')\n",
    "plot.ylabel('Duration')\n",
    "b_plot.plot()\n",
    "plot.show() "
   ]
  },
  {
   "cell_type": "markdown",
   "metadata": {},
   "source": [
    "# **RFM Model**"
   ]
  },
  {
   "cell_type": "code",
   "execution_count": 6,
   "metadata": {},
   "outputs": [],
   "source": [
    "# Keep only latest record for each 'Contract' based on 'Contract' and 'Date'\n",
    "def calculate_r_score(df):\n",
    "    # Find last_day_access\n",
    "    windowSpec = Window.partitionBy('Contract').orderBy(desc('Date'))\n",
    "    last_date = df.withColumn('Rank',dense_rank().over(windowSpec))\n",
    "    last_date = last_date.filter(last_date.Rank == 1).drop(last_date.Rank)\n",
    "    last_date = last_date.select('Contract', 'Date').withColumnRenamed('Date', 'Last_date')\n",
    "\n",
    "    # Calculate R_Score\n",
    "    r_score = last_date.withColumnRenamed('Last_date', 'Recency')\n",
    "    r_score = r_score.withColumn('Recency', (30 - regexp_replace('Recency', '2022-04-', '').cast(IntegerType())))\n",
    "    # r_score = r_score.orderBy('Recency', ascending=True)\n",
    "    r_score = r_score.withColumn('R_Score', when(((col('Recency') >= 0) & (col('Recency') <= 5)), 3)\n",
    "                                           .when(((col('Recency') >= 6) & (col('Recency') <= 14)), 2)\n",
    "                                           .when(((col('Recency') >= 15) & (col('Recency') <= 30)), 1))\n",
    "    return r_score"
   ]
  },
  {
   "cell_type": "code",
   "execution_count": 7,
   "metadata": {},
   "outputs": [],
   "source": [
    "def calculate_f_score(df):\n",
    "    # Calculate number_date_active\n",
    "    windowSpec1 = Window.partitionBy('Contract').orderBy('Date')\n",
    "    windowSpec2 = Window.partitionBy('Contract')\n",
    "\n",
    "    number_date_active = df.withColumn('row_number', sf.row_number().over(windowSpec1)) \\\n",
    "                        .withColumn('Number_Of_Date', sf.last('row_number').over(windowSpec2)) \\\n",
    "                            .filter('row_number = Number_Of_Date')\n",
    "    \n",
    "    number_date_active = number_date_active.select('Contract', 'Number_Of_Date')\n",
    "    # number_date_active = number_date_active.orderBy('Number_Of_Date', ascending=False)\n",
    "    number_date_active = number_date_active.withColumnRenamed('Number_Of_Date', 'Frequency')\n",
    "\n",
    "    # Calculate F_Score\n",
    "    f_score = number_date_active.withColumn('F_Score', when(((col('Frequency') >= 15) & (col('Frequency') <= 30)), 3)\n",
    "                                                      .when(((col('Frequency') >= 6) & (col('Frequency') <= 14)), 2)\n",
    "                                                      .when(((col('Frequency') >= 0) & (col('Frequency') <= 5)), 1))\n",
    "    return f_score"
   ]
  },
  {
   "cell_type": "code",
   "execution_count": 8,
   "metadata": {},
   "outputs": [],
   "source": [
    "def calculate_m_score(df):\n",
    "    # Calculate Totalduration\n",
    "    df = unpivot_data(df)\n",
    "    total = df.groupBy('Contract').sum('TotalDuration').withColumnRenamed('sum(TotalDuration)', 'Monetary')\n",
    "    # total = total.orderBy('Monetary', ascending=False)\n",
    "\n",
    "    # Calculate F_Score\n",
    "    seconds_of_month = 2592000\n",
    "    m_score = total.withColumn('M_Score', when(col('Monetary') >= seconds_of_month*0.6, 3)\n",
    "                                         .when(col('Monetary') >= seconds_of_month*0.3, 2)\n",
    "                                         .otherwise(1))\n",
    "    return m_score"
   ]
  },
  {
   "cell_type": "code",
   "execution_count": 9,
   "metadata": {},
   "outputs": [],
   "source": [
    "def rfm_segmentation(df):\n",
    "    r_scores = calculate_r_score(df).drop('Last_date')\n",
    "    f_scores = calculate_f_score(df)\n",
    "    m_scores = calculate_m_score(df)\n",
    "\n",
    "    rfm_data = r_scores.join(f_scores, 'Contract', 'inner')\n",
    "    rfm_data = rfm_data.join(m_scores, 'Contract', 'inner')\n",
    "    rfm_data = rfm_data.select('Contract', 'Recency', 'Frequency', 'Monetary', 'R_Score', 'F_Score', 'M_Score')\n",
    "\n",
    "    score_columns = ['R_Score', 'F_Score', 'M_Score']\n",
    "    rfm_data = rfm_data.withColumn('RFM_CELL', sf.concat_ws(',', *[c for c in score_columns]))\n",
    "    rfm_data = rfm_data.withColumn('RFM_SCORE', sf.format_number((col(\"R_Score\") + col(\"F_Score\") + col(\"M_Score\"))/3, 2))\n",
    "\n",
    "    rfm_data = rfm_data.withColumn('Segment', when((col('RFM_SCORE') >= 2), 'High')\n",
    "                                             .when((col('RFM_SCORE') >= 1.5), 'Mid')\n",
    "                                             .otherwise('Low'))\n",
    "    return rfm_data"
   ]
  },
  {
   "cell_type": "code",
   "execution_count": 14,
   "metadata": {},
   "outputs": [],
   "source": [
    "rfm_data = rfm_segmentation(df)"
   ]
  },
  {
   "cell_type": "code",
   "execution_count": 15,
   "metadata": {},
   "outputs": [
    {
     "name": "stdout",
     "output_type": "stream",
     "text": [
      "+--------------+-------+---------+--------+-------+-------+-------+--------+---------+-------+\n",
      "|      Contract|Recency|Frequency|Monetary|R_Score|F_Score|M_Score|RFM_CELL|RFM_SCORE|Segment|\n",
      "+--------------+-------+---------+--------+-------+-------+-------+--------+---------+-------+\n",
      "|113.182.209.48|     29|        1|     152|      1|      1|      1|   1,1,1|     1.00|    Low|\n",
      "|14.182.110.125|     20|        1|     496|      1|      1|      1|   1,1,1|     1.00|    Low|\n",
      "|     AGAAA0338|      0|       30|  278633|      3|      3|      1|   3,3,1|     2.33|   High|\n",
      "|     AGAAA0342|      0|       12|  117992|      3|      2|      1|   3,2,1|     2.00|   High|\n",
      "|     AGAAA0391|      0|       11|  159433|      3|      2|      1|   3,2,1|     2.00|   High|\n",
      "+--------------+-------+---------+--------+-------+-------+-------+--------+---------+-------+\n",
      "only showing top 5 rows\n",
      "\n"
     ]
    }
   ],
   "source": [
    "rfm_data.show(5)"
   ]
  },
  {
   "cell_type": "code",
   "execution_count": 16,
   "metadata": {},
   "outputs": [
    {
     "data": {
      "text/plain": [
       "<Axes: title={'center': 'Distribution of customer groups - 04/2022'}, xlabel='Segment'>"
      ]
     },
     "execution_count": 16,
     "metadata": {},
     "output_type": "execute_result"
    },
    {
     "data": {
      "image/png": "[encoded data removed]",
      "text/plain": [
       "<Figure size 640x480 with 1 Axes>"
      ]
     },
     "metadata": {},
     "output_type": "display_data"
    }
   ],
   "source": [
    "data = rfm_data.groupBy('Segment').count().withColumnRenamed('count', 'Number of Customers').toPandas()\n",
    "data = data.reindex([\"Low\", \"Mid\", \"High\"])\n",
    "data.plot.bar(x=\"Segment\", y=\"Number of Customers\", rot=0, title=\"Distribution of customer groups - 04/2022\")"
   ]
  },
  {
   "cell_type": "code",
   "execution_count": 36,
   "metadata": {},
   "outputs": [
    {
     "data": {
      "text/plain": [
       "Text(0, 0.5, 'Score')"
      ]
     },
     "execution_count": 36,
     "metadata": {},
     "output_type": "execute_result"
    },
    {
     "data": {
      "image/png": "[encoded data removed]",
      "text/plain": [
       "<Figure size 640x480 with 1 Axes>"
      ]
     },
     "metadata": {},
     "output_type": "display_data"
    }
   ],
   "source": [
    "score_data = rfm_data.groupBy('Segment').mean('R_Score', 'F_Score', 'M_Score')\n",
    "score_data = score_data.toPandas()\n",
    "score_data = score_data.rename(columns={\"avg(R_Score)\": \"Rencency Score\", \"avg(F_Score)\": \"Frequency Score\", \"avg(M_Score)\": \"Monetary Score\"})\n",
    "# plotting\n",
    "score_data.plot.bar(x=\"Segment\", y=[\"Rencency Score\", \"Frequency Score\", \"Monetary Score\"], rot=0, title=\"Comparison of RFM Segments based on Rencency, Frequency, Monetary Scores\")\n",
    "plt.ylabel('Score')"
   ]
  }
 ],
 "metadata": {
  "kernelspec": {
   "display_name": "base",
   "language": "python",
   "name": "python3"
  },
  "language_info": {
   "codemirror_mode": {
    "name": "ipython",
    "version": 3
   },
   "file_extension": ".py",
   "mimetype": "text/x-python",
   "name": "python",
   "nbconvert_exporter": "python",
   "pygments_lexer": "ipython3",
   "version": "3.11.4"
  },
  "orig_nbformat": 4
 },
 "nbformat": 4,
 "nbformat_minor": 2
}
